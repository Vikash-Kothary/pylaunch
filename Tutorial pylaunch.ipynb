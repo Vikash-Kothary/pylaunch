{
 "cells": [
  {
   "cell_type": "markdown",
   "metadata": {},
   "source": [
    "## Global configuration"
   ]
  },
  {
   "cell_type": "code",
   "execution_count": 1,
   "metadata": {},
   "outputs": [],
   "source": [
    "import pylaunch"
   ]
  },
  {
   "cell_type": "code",
   "execution_count": 2,
   "metadata": {},
   "outputs": [],
   "source": [
    "pylaunch.createConfigFile()"
   ]
  },
  {
   "cell_type": "raw",
   "metadata": {},
   "source": [
    "You would need to change the configuration inside the JSON config file that has been created.\n",
    "Then you can import the configuration settings with the following method."
   ]
  },
  {
   "cell_type": "code",
   "execution_count": 3,
   "metadata": {},
   "outputs": [],
   "source": [
    "pylaunch.importConfigFile('config_launch_api.json')"
   ]
  },
  {
   "cell_type": "markdown",
   "metadata": {},
   "source": [
    "### 1st step"
   ]
  },
  {
   "cell_type": "code",
   "execution_count": 4,
   "metadata": {},
   "outputs": [],
   "source": [
    "companyid = pylaunch.getCompanyId()"
   ]
  },
  {
   "cell_type": "code",
   "execution_count": 5,
   "metadata": {},
   "outputs": [
    {
     "data": {
      "text/plain": [
       "'CO530cacd5e8e64516a9c801c74d790d93'"
      ]
     },
     "execution_count": 5,
     "metadata": {},
     "output_type": "execute_result"
    }
   ],
   "source": [
    "companyid"
   ]
  },
  {
   "cell_type": "markdown",
   "metadata": {},
   "source": [
    "### 2nd step"
   ]
  },
  {
   "cell_type": "code",
   "execution_count": 7,
   "metadata": {},
   "outputs": [],
   "source": [
    "properties = pylaunch.getProperties(companyid)"
   ]
  },
  {
   "cell_type": "code",
   "execution_count": 8,
   "metadata": {},
   "outputs": [
    {
     "data": {
      "text/plain": [
       "3"
      ]
     },
     "execution_count": 8,
     "metadata": {},
     "output_type": "execute_result"
    }
   ],
   "source": [
    "len(properties)"
   ]
  },
  {
   "cell_type": "markdown",
   "metadata": {},
   "source": [
    "## Creating an instance of Property class to manage 1 property"
   ]
  },
  {
   "cell_type": "code",
   "execution_count": 9,
   "metadata": {},
   "outputs": [],
   "source": [
    "datanalyst = pylaunch.Property(properties[0])"
   ]
  },
  {
   "cell_type": "code",
   "execution_count": 10,
   "metadata": {},
   "outputs": [
    {
     "data": {
      "text/plain": [
       "'Datanalyst'"
      ]
     },
     "execution_count": 10,
     "metadata": {},
     "output_type": "execute_result"
    }
   ],
   "source": [
    "datanalyst.name"
   ]
  },
  {
   "cell_type": "code",
   "execution_count": 11,
   "metadata": {},
   "outputs": [
    {
     "data": {
      "text/plain": [
       "'PR22f683f8ddfa4f9fb408d3c70a435a27'"
      ]
     },
     "execution_count": 11,
     "metadata": {},
     "output_type": "execute_result"
    }
   ],
   "source": [
    "datanalyst.id"
   ]
  },
  {
   "cell_type": "markdown",
   "metadata": {},
   "source": [
    "### Getting the rules, the extensions and the Data Elements "
   ]
  },
  {
   "cell_type": "code",
   "execution_count": 12,
   "metadata": {},
   "outputs": [],
   "source": [
    "data_rules = datanalyst.getRules()\n",
    "data_extensions = datanalyst.getExtensions()\n",
    "data_de = datanalyst.getDataElements()"
   ]
  },
  {
   "cell_type": "markdown",
   "metadata": {},
   "source": [
    "## Creating a new property and returning an instance of property class (default)"
   ]
  },
  {
   "cell_type": "code",
   "execution_count": 15,
   "metadata": {},
   "outputs": [],
   "source": [
    "pytest = pylaunch.createProperty(companyid,'pytest')"
   ]
  },
  {
   "cell_type": "code",
   "execution_count": 16,
   "metadata": {},
   "outputs": [
    {
     "data": {
      "text/plain": [
       "[]"
      ]
     },
     "execution_count": 16,
     "metadata": {},
     "output_type": "execute_result"
    }
   ],
   "source": [
    "pytest.getRules()"
   ]
  },
  {
   "cell_type": "markdown",
   "metadata": {},
   "source": [
    "## copying the settings of extensions for future usage (copy - paste)"
   ]
  },
  {
   "cell_type": "code",
   "execution_count": 18,
   "metadata": {},
   "outputs": [],
   "source": [
    "settings_ext = []\n",
    "for ext in data_extensions:\n",
    "    settings_ext.append(pylaunch.copySettings(ext))"
   ]
  },
  {
   "cell_type": "code",
   "execution_count": 19,
   "metadata": {},
   "outputs": [
    {
     "data": {
      "text/plain": [
       "7"
      ]
     },
     "execution_count": 19,
     "metadata": {},
     "output_type": "execute_result"
    }
   ],
   "source": [
    "len(settings_ext)"
   ]
  },
  {
   "cell_type": "raw",
   "metadata": {},
   "source": [
    "Removing the core extension because it already exists"
   ]
  },
  {
   "cell_type": "code",
   "execution_count": 20,
   "metadata": {},
   "outputs": [
    {
     "data": {
      "text/plain": [
       "{'name': 'core',\n",
       " 'settings': '{}',\n",
       " 'delegate_descriptor_id': None,\n",
       " 'extension_id': 'EP3192e7e0a93746a98645497e7463a723'}"
      ]
     },
     "execution_count": 20,
     "metadata": {},
     "output_type": "execute_result"
    }
   ],
   "source": [
    "settings_ext.pop()"
   ]
  },
  {
   "cell_type": "code",
   "execution_count": 21,
   "metadata": {},
   "outputs": [
    {
     "data": {
      "text/plain": [
       "6"
      ]
     },
     "execution_count": 21,
     "metadata": {},
     "output_type": "execute_result"
    }
   ],
   "source": [
    "len(settings_ext)"
   ]
  },
  {
   "cell_type": "markdown",
   "metadata": {},
   "source": [
    "## Creating the different extensions with their settings"
   ]
  },
  {
   "cell_type": "code",
   "execution_count": 22,
   "metadata": {},
   "outputs": [],
   "source": [
    "res = []\n",
    "for ext in settings_ext:\n",
    "    res.append(pytest.createExtensions(ext['extension_id'],ext['settings'],ext['delegate_descriptor_id']))"
   ]
  },
  {
   "cell_type": "code",
   "execution_count": 23,
   "metadata": {},
   "outputs": [
    {
     "data": {
      "text/plain": [
       "6"
      ]
     },
     "execution_count": 23,
     "metadata": {},
     "output_type": "execute_result"
    }
   ],
   "source": [
    "len(res)"
   ]
  },
  {
   "cell_type": "markdown",
   "metadata": {},
   "source": [
    "## copying the settings of data element for future usage (copy - paste)"
   ]
  },
  {
   "cell_type": "code",
   "execution_count": 24,
   "metadata": {},
   "outputs": [],
   "source": [
    "settings_de = []\n",
    "for de in data_de:\n",
    "    settings_de.append(pylaunch.copySettings(de))"
   ]
  },
  {
   "cell_type": "code",
   "execution_count": 25,
   "metadata": {},
   "outputs": [
    {
     "data": {
      "text/plain": [
       "{'name': 'category',\n",
       " 'settings': '{\"source\":\"var path = window.location.pathname;\\\\nif(path.indexOf(\\'web_analytics\\') != -1){return \\\\\"Web Analytics\\\\\"}\\\\nelse if (path.indexOf(\\'python\\') != -1){return \\\\\"Python\\\\\"}\\\\nelse if(path.indexOf(\\'about\\') !=  -1){return \\\\\"About\\\\\"}\\\\nelse if(path == \\'/\\'){return \\\\\"Homepage\\\\\"}\\\\nelse {return \\\\\"Other\\\\\"}\"}',\n",
       " 'delegate_descriptor_id': 'core::dataElements::custom-code',\n",
       " 'storage_duration': None,\n",
       " 'force_lower_case': True,\n",
       " 'default_value': 'other',\n",
       " 'clean_text': False,\n",
       " 'extension': {'id': 'EXf033eb2c71a14db681d52656c56850ae',\n",
       "  'type': 'extensions'}}"
      ]
     },
     "execution_count": 25,
     "metadata": {},
     "output_type": "execute_result"
    }
   ],
   "source": [
    "settings_de[0]"
   ]
  },
  {
   "cell_type": "markdown",
   "metadata": {},
   "source": [
    "## Setting the translator class"
   ]
  },
  {
   "cell_type": "raw",
   "metadata": {},
   "source": [
    "Translator class is required when you try to copy paste data elements or rule component from one property to another. \n",
    "The component or the rule id for the element is unique to the property.  "
   ]
  },
  {
   "cell_type": "code",
   "execution_count": 26,
   "metadata": {},
   "outputs": [],
   "source": [
    "translator = pylaunch.Translator()"
   ]
  },
  {
   "cell_type": "code",
   "execution_count": 27,
   "metadata": {},
   "outputs": [],
   "source": [
    "translator.setBaseExtensions(data_extensions,'datanalyst')"
   ]
  },
  {
   "cell_type": "code",
   "execution_count": 28,
   "metadata": {},
   "outputs": [],
   "source": [
    "pytest_extensions = pytest.getExtensions()"
   ]
  },
  {
   "cell_type": "code",
   "execution_count": 29,
   "metadata": {},
   "outputs": [
    {
     "data": {
      "text/html": [
       "<div>\n",
       "<style scoped>\n",
       "    .dataframe tbody tr th:only-of-type {\n",
       "        vertical-align: middle;\n",
       "    }\n",
       "\n",
       "    .dataframe tbody tr th {\n",
       "        vertical-align: top;\n",
       "    }\n",
       "\n",
       "    .dataframe thead th {\n",
       "        text-align: right;\n",
       "    }\n",
       "</style>\n",
       "<table border=\"1\" class=\"dataframe\">\n",
       "  <thead>\n",
       "    <tr style=\"text-align: right;\">\n",
       "      <th></th>\n",
       "      <th>datanalyst</th>\n",
       "      <th>pytest</th>\n",
       "    </tr>\n",
       "  </thead>\n",
       "  <tbody>\n",
       "    <tr>\n",
       "      <th>doubleclick-floodlight</th>\n",
       "      <td>EX6a746e1631e142ed89bb6877f9208371</td>\n",
       "      <td>EX6f8fead3b46348c69ffa1cc2c86a9be8</td>\n",
       "    </tr>\n",
       "    <tr>\n",
       "      <th>ags862-complete-learning-extension</th>\n",
       "      <td>EX86e3cc73b8174160a64056753ab2a24d</td>\n",
       "      <td>EXf668d372c01243169cfaafda6a484737</td>\n",
       "    </tr>\n",
       "    <tr>\n",
       "      <th>facebook-pixel</th>\n",
       "      <td>EXa8395850df844f508275a8fcbf1cd7e1</td>\n",
       "      <td>EX9b655b3549e74c63842d4267ae1b3315</td>\n",
       "    </tr>\n",
       "    <tr>\n",
       "      <th>sdi-toolkit</th>\n",
       "      <td>EXee837a297474454d83873cccc082e12e</td>\n",
       "      <td>EX2a2ab2c859294a8c9351267802f9c60a</td>\n",
       "    </tr>\n",
       "    <tr>\n",
       "      <th>adobe-target</th>\n",
       "      <td>EXbbc9d868f7a549a6a117491d2a995cc0</td>\n",
       "      <td>EXd6a99331d0ba426f9826f10ab97f1982</td>\n",
       "    </tr>\n",
       "    <tr>\n",
       "      <th>adobe-analytics</th>\n",
       "      <td>EX2b01dbe4cc844c428064add25e85ef59</td>\n",
       "      <td>EX0ee9efc38de048739e8763db340d6348</td>\n",
       "    </tr>\n",
       "    <tr>\n",
       "      <th>core</th>\n",
       "      <td>EXf033eb2c71a14db681d52656c56850ae</td>\n",
       "      <td>EX80d4b4d35d2f4b41bc808ee98e74834b</td>\n",
       "    </tr>\n",
       "  </tbody>\n",
       "</table>\n",
       "</div>"
      ],
      "text/plain": [
       "                                                            datanalyst  \\\n",
       "doubleclick-floodlight              EX6a746e1631e142ed89bb6877f9208371   \n",
       "ags862-complete-learning-extension  EX86e3cc73b8174160a64056753ab2a24d   \n",
       "facebook-pixel                      EXa8395850df844f508275a8fcbf1cd7e1   \n",
       "sdi-toolkit                         EXee837a297474454d83873cccc082e12e   \n",
       "adobe-target                        EXbbc9d868f7a549a6a117491d2a995cc0   \n",
       "adobe-analytics                     EX2b01dbe4cc844c428064add25e85ef59   \n",
       "core                                EXf033eb2c71a14db681d52656c56850ae   \n",
       "\n",
       "                                                                pytest  \n",
       "doubleclick-floodlight              EX6f8fead3b46348c69ffa1cc2c86a9be8  \n",
       "ags862-complete-learning-extension  EXf668d372c01243169cfaafda6a484737  \n",
       "facebook-pixel                      EX9b655b3549e74c63842d4267ae1b3315  \n",
       "sdi-toolkit                         EX2a2ab2c859294a8c9351267802f9c60a  \n",
       "adobe-target                        EXd6a99331d0ba426f9826f10ab97f1982  \n",
       "adobe-analytics                     EX0ee9efc38de048739e8763db340d6348  \n",
       "core                                EX80d4b4d35d2f4b41bc808ee98e74834b  "
      ]
     },
     "execution_count": 29,
     "metadata": {},
     "output_type": "execute_result"
    }
   ],
   "source": [
    "translator.extendExtensions(pytest_extensions,'pytest')"
   ]
  },
  {
   "cell_type": "code",
   "execution_count": 30,
   "metadata": {},
   "outputs": [],
   "source": [
    "n_settings_de = []\n",
    "for de in settings_de:\n",
    "    n_settings_de.append(translator.translate('pytest',data_element=de))"
   ]
  },
  {
   "cell_type": "code",
   "execution_count": 31,
   "metadata": {},
   "outputs": [
    {
     "data": {
      "text/plain": [
       "{'name': 'category',\n",
       " 'settings': '{\"source\":\"var path = window.location.pathname;\\\\nif(path.indexOf(\\'web_analytics\\') != -1){return \\\\\"Web Analytics\\\\\"}\\\\nelse if (path.indexOf(\\'python\\') != -1){return \\\\\"Python\\\\\"}\\\\nelse if(path.indexOf(\\'about\\') !=  -1){return \\\\\"About\\\\\"}\\\\nelse if(path == \\'/\\'){return \\\\\"Homepage\\\\\"}\\\\nelse {return \\\\\"Other\\\\\"}\"}',\n",
       " 'delegate_descriptor_id': 'core::dataElements::custom-code',\n",
       " 'storage_duration': None,\n",
       " 'force_lower_case': True,\n",
       " 'default_value': 'other',\n",
       " 'clean_text': False,\n",
       " 'extension': {'id': 'EXf033eb2c71a14db681d52656c56850ae',\n",
       "  'type': 'extensions'}}"
      ]
     },
     "execution_count": 31,
     "metadata": {},
     "output_type": "execute_result"
    }
   ],
   "source": [
    "settings_de[0]"
   ]
  },
  {
   "cell_type": "code",
   "execution_count": 32,
   "metadata": {},
   "outputs": [
    {
     "data": {
      "text/plain": [
       "{'name': 'category',\n",
       " 'settings': '{\"source\":\"var path = window.location.pathname;\\\\nif(path.indexOf(\\'web_analytics\\') != -1){return \\\\\"Web Analytics\\\\\"}\\\\nelse if (path.indexOf(\\'python\\') != -1){return \\\\\"Python\\\\\"}\\\\nelse if(path.indexOf(\\'about\\') !=  -1){return \\\\\"About\\\\\"}\\\\nelse if(path == \\'/\\'){return \\\\\"Homepage\\\\\"}\\\\nelse {return \\\\\"Other\\\\\"}\"}',\n",
       " 'delegate_descriptor_id': 'core::dataElements::custom-code',\n",
       " 'storage_duration': None,\n",
       " 'force_lower_case': True,\n",
       " 'default_value': 'other',\n",
       " 'clean_text': False,\n",
       " 'extension': {'id': 'EX80d4b4d35d2f4b41bc808ee98e74834b',\n",
       "  'type': 'extensions'}}"
      ]
     },
     "execution_count": 32,
     "metadata": {},
     "output_type": "execute_result"
    }
   ],
   "source": [
    "n_settings_de[0]"
   ]
  },
  {
   "cell_type": "code",
   "execution_count": 33,
   "metadata": {},
   "outputs": [],
   "source": [
    "pytest_de = []\n",
    "for de in n_settings_de:\n",
    "    pytest_de.append(pytest.createDataElements(de['name'],de['delegate_descriptor_id'],de['extension'],de['settings']))"
   ]
  },
  {
   "cell_type": "code",
   "execution_count": 34,
   "metadata": {},
   "outputs": [
    {
     "data": {
      "text/plain": [
       "True"
      ]
     },
     "execution_count": 34,
     "metadata": {},
     "output_type": "execute_result"
    }
   ],
   "source": [
    "len(pytest_de) == len(data_de)"
   ]
  },
  {
   "cell_type": "code",
   "execution_count": 35,
   "metadata": {},
   "outputs": [],
   "source": [
    "data_rc = datanalyst.getRuleComponents()"
   ]
  },
  {
   "cell_type": "code",
   "execution_count": 38,
   "metadata": {},
   "outputs": [
    {
     "data": {
      "text/plain": [
       "{'name': 'Adobe Analytics - Set Variables',\n",
       " 'order': 0,\n",
       " 'delegate_descriptor_id': 'adobe-analytics::actions::set-variables',\n",
       " 'negate': False,\n",
       " 'rule_order': 50.0,\n",
       " 'settings': '{\"customSetup\":{\"source\":\"s.pageName = \\'\\'\"},\"trackerProperties\":{}}',\n",
       " 'extension': {'id': 'EX2b01dbe4cc844c428064add25e85ef59',\n",
       "  'type': 'extensions'},\n",
       " 'rule_name': 'All Rule Component'}"
      ]
     },
     "execution_count": 38,
     "metadata": {},
     "output_type": "execute_result"
    }
   ],
   "source": [
    "pylaunch.copySettings(data_rc[0])"
   ]
  },
  {
   "cell_type": "code",
   "execution_count": 39,
   "metadata": {},
   "outputs": [],
   "source": [
    "myHost = pytest.createHost('Host1')"
   ]
  },
  {
   "cell_type": "code",
   "execution_count": 40,
   "metadata": {},
   "outputs": [
    {
     "data": {
      "text/plain": [
       "'HT09778e4c429e47cd9759864dc5b076bf'"
      ]
     },
     "execution_count": 40,
     "metadata": {},
     "output_type": "execute_result"
    }
   ],
   "source": [
    "myHost['id']"
   ]
  },
  {
   "cell_type": "code",
   "execution_count": 41,
   "metadata": {},
   "outputs": [],
   "source": [
    "env1 = pytest.createEnvironment('development',myHost['id'])\n",
    "env2 = pytest.createEnvironment('staging',myHost['id'],stage='staging')\n",
    "env3 = pytest.createEnvironment('production',myHost['id'],stage='production')"
   ]
  },
  {
   "cell_type": "code",
   "execution_count": 42,
   "metadata": {},
   "outputs": [],
   "source": [
    "envs = [env1,env2,env3]"
   ]
  },
  {
   "cell_type": "code",
   "execution_count": null,
   "metadata": {},
   "outputs": [],
   "source": []
  },
  {
   "cell_type": "markdown",
   "metadata": {},
   "source": [
    "## Creating a Library instance automatically from creation of Library. "
   ]
  },
  {
   "cell_type": "code",
   "execution_count": 43,
   "metadata": {},
   "outputs": [],
   "source": [
    "myLib = pytest.createLibrary('2019-07-02 - my Lib 1')"
   ]
  },
  {
   "cell_type": "code",
   "execution_count": 44,
   "metadata": {},
   "outputs": [],
   "source": [
    "import pandas as pd"
   ]
  },
  {
   "cell_type": "markdown",
   "metadata": {},
   "source": [
    "### Cool things is to create a pandas data frame from the info in Extensions, Rules, Data elements or Rule Component"
   ]
  },
  {
   "cell_type": "code",
   "execution_count": 45,
   "metadata": {},
   "outputs": [],
   "source": [
    "df_de = pd.DataFrame(pylaunch.dataElementInfos(pytest_de)).T"
   ]
  },
  {
   "cell_type": "code",
   "execution_count": 47,
   "metadata": {},
   "outputs": [],
   "source": [
    "df_ext = pd.DataFrame(pylaunch.extensionsInfo(pytest_extensions)).T"
   ]
  },
  {
   "cell_type": "code",
   "execution_count": 48,
   "metadata": {},
   "outputs": [],
   "source": [
    "de_ids = list(df_de['id'])\n",
    "ext_ids = list(df_ext['id'])"
   ]
  },
  {
   "cell_type": "code",
   "execution_count": 49,
   "metadata": {},
   "outputs": [
    {
     "data": {
      "text/plain": [
       "{'data': [{'type': 'data_elements',\n",
       "   'id': 'DE48a801f6959d44e09bbdb732e05ec491'},\n",
       "  {'type': 'data_elements', 'id': 'DE5e04aef8ad974c8998bfd791924f78ae'},\n",
       "  {'type': 'data_elements', 'id': 'DEc9c67f796a1942a9b6e1fb7bd23822f9'},\n",
       "  {'type': 'data_elements', 'id': 'DEa1b86d318680422d8d564366cc3afb34'},\n",
       "  {'type': 'data_elements', 'id': 'DE24e41291f9604a378a235c4950e1f6a9'},\n",
       "  {'type': 'data_elements', 'id': 'DE859fe4b836184ba68ae2c305dd993bc3'}],\n",
       " 'links': {'related': 'https://reactor.adobe.io/libraries/LBfad6882fb3434fe0ab5ed45353fc9d19/data_elements',\n",
       "  'self': 'https://reactor.adobe.io/libraries/LBfad6882fb3434fe0ab5ed45353fc9d19/relationships/data_elements'}}"
      ]
     },
     "execution_count": 49,
     "metadata": {},
     "output_type": "execute_result"
    }
   ],
   "source": [
    "myLib.addDataElements(de_ids)"
   ]
  },
  {
   "cell_type": "code",
   "execution_count": 50,
   "metadata": {},
   "outputs": [
    {
     "data": {
      "text/plain": [
       "{'data': [{'type': 'extensions', 'id': 'EXecb4c15de96147bb858baa1e839b4948'},\n",
       "  {'type': 'extensions', 'id': 'EX4e25b0c43548465aa412f8b4eee53058'},\n",
       "  {'type': 'extensions', 'id': 'EX768d54f6c53746cfab4e2b094b649394'},\n",
       "  {'type': 'extensions', 'id': 'EXf17e53fa1ba5478dbaf61e20df301ea7'},\n",
       "  {'type': 'extensions', 'id': 'EX4c96c4b3484b49f9ac3a8b186495bf9d'},\n",
       "  {'type': 'extensions', 'id': 'EXae62413f66894d31a4fbc3264c3508b9'},\n",
       "  {'type': 'extensions', 'id': 'EXd5be993e48e34cb49f3f9b628becc6ee'}],\n",
       " 'links': {'related': 'https://reactor.adobe.io/libraries/LBfad6882fb3434fe0ab5ed45353fc9d19/extensions',\n",
       "  'self': 'https://reactor.adobe.io/libraries/LBfad6882fb3434fe0ab5ed45353fc9d19/relationships/extensions'}}"
      ]
     },
     "execution_count": 50,
     "metadata": {},
     "output_type": "execute_result"
    }
   ],
   "source": [
    "myLib.addExtensions(ext_ids)"
   ]
  },
  {
   "cell_type": "markdown",
   "metadata": {},
   "source": [
    "### Important : sets your environments in your Library instance"
   ]
  },
  {
   "cell_type": "code",
   "execution_count": 51,
   "metadata": {},
   "outputs": [],
   "source": [
    "myLib.setEnvironments(envs)"
   ]
  },
  {
   "cell_type": "code",
   "execution_count": 52,
   "metadata": {},
   "outputs": [
    {
     "data": {
      "text/plain": [
       "{'developments': {'development': 'EN622df88ef6db4fe0ab68daed1e680d3a'},\n",
       " 'staging': 'ENe57eb491a57549e399ece5c5fc59a1c6',\n",
       " 'production': 'ENa284242e02c34774af2ec99df05efa64'}"
      ]
     },
     "execution_count": 52,
     "metadata": {},
     "output_type": "execute_result"
    }
   ],
   "source": [
    "myLib._environments"
   ]
  },
  {
   "cell_type": "code",
   "execution_count": 54,
   "metadata": {},
   "outputs": [
    {
     "data": {
      "text/plain": [
       "'development'"
      ]
     },
     "execution_count": 54,
     "metadata": {},
     "output_type": "execute_result"
    }
   ],
   "source": [
    "myLib.state"
   ]
  },
  {
   "cell_type": "code",
   "execution_count": 55,
   "metadata": {},
   "outputs": [
    {
     "data": {
      "text/plain": [
       "True"
      ]
     },
     "execution_count": 55,
     "metadata": {},
     "output_type": "execute_result"
    }
   ],
   "source": [
    "myLib.build_required"
   ]
  },
  {
   "cell_type": "code",
   "execution_count": 56,
   "metadata": {},
   "outputs": [],
   "source": [
    "myLib.build_status"
   ]
  },
  {
   "cell_type": "code",
   "execution_count": 57,
   "metadata": {},
   "outputs": [
    {
     "name": "stdout",
     "output_type": "stream",
     "text": [
      "pending...\n"
     ]
    },
    {
     "data": {
      "text/plain": [
       "{'data': {'id': 'BL7ffbcfd7dc534a1c9e9a3ca39b8369bd',\n",
       "  'type': 'builds',\n",
       "  'attributes': {'created_at': '2019-07-02T15:34:20.770Z',\n",
       "   'status': 'succeeded',\n",
       "   'updated_at': '2019-07-02T15:34:40.030Z'},\n",
       "  'relationships': {'data_elements': {'links': {'related': 'https://reactor.adobe.io/builds/BL7ffbcfd7dc534a1c9e9a3ca39b8369bd/data_elements'}},\n",
       "   'extensions': {'links': {'related': 'https://reactor.adobe.io/builds/BL7ffbcfd7dc534a1c9e9a3ca39b8369bd/extensions'}},\n",
       "   'rules': {'links': {'related': 'https://reactor.adobe.io/builds/BL7ffbcfd7dc534a1c9e9a3ca39b8369bd/rules'}},\n",
       "   'environment': {'links': {'related': 'https://reactor.adobe.io/builds/BL7ffbcfd7dc534a1c9e9a3ca39b8369bd/environment'},\n",
       "    'data': {'id': 'EN622df88ef6db4fe0ab68daed1e680d3a',\n",
       "     'type': 'environments'}},\n",
       "   'library': {'links': {'related': 'https://reactor.adobe.io/builds/BL7ffbcfd7dc534a1c9e9a3ca39b8369bd/library'},\n",
       "    'data': {'id': 'LBfad6882fb3434fe0ab5ed45353fc9d19', 'type': 'libraries'}},\n",
       "   'property': {'links': {'related': 'https://reactor.adobe.io/builds/BL7ffbcfd7dc534a1c9e9a3ca39b8369bd/property'},\n",
       "    'data': {'id': 'PR834725ffd6054abeb3565d3b059d0071',\n",
       "     'type': 'properties'}}},\n",
       "  'links': {'environment': 'https://reactor.adobe.io/environments/EN622df88ef6db4fe0ab68daed1e680d3a',\n",
       "   'library': 'https://reactor.adobe.io/libraries/LBfad6882fb3434fe0ab5ed45353fc9d19',\n",
       "   'self': 'https://reactor.adobe.io/builds/BL7ffbcfd7dc534a1c9e9a3ca39b8369bd'},\n",
       "  'meta': {'artifact_url': 'https://assets.adobedtm.com/launch-EN622df88ef6db4fe0ab68daed1e680d3a-development.min.js'}}}"
      ]
     },
     "execution_count": 57,
     "metadata": {},
     "output_type": "execute_result"
    }
   ],
   "source": [
    "myLib.build()"
   ]
  },
  {
   "cell_type": "code",
   "execution_count": 59,
   "metadata": {},
   "outputs": [
    {
     "data": {
      "text/plain": [
       "False"
      ]
     },
     "execution_count": 59,
     "metadata": {},
     "output_type": "execute_result"
    }
   ],
   "source": [
    "myLib.build_required"
   ]
  },
  {
   "cell_type": "code",
   "execution_count": 60,
   "metadata": {},
   "outputs": [
    {
     "data": {
      "text/plain": [
       "{'data': {'id': 'LBfad6882fb3434fe0ab5ed45353fc9d19',\n",
       "  'type': 'libraries',\n",
       "  'attributes': {'created_at': '2019-07-02T15:28:22.581Z',\n",
       "   'name': '2019-07-02 - my Lib 1',\n",
       "   'published_at': None,\n",
       "   'state': 'submitted',\n",
       "   'updated_at': '2019-07-02T15:35:44.645Z',\n",
       "   'build_required': True},\n",
       "  'relationships': {'builds': {'links': {'related': 'https://reactor.adobe.io/libraries/LBfad6882fb3434fe0ab5ed45353fc9d19/builds'}},\n",
       "   'environment': {'links': {'self': 'https://reactor.adobe.io/libraries/LBfad6882fb3434fe0ab5ed45353fc9d19/relationships/environment'},\n",
       "    'data': None},\n",
       "   'resources': {'links': {'related': 'https://reactor.adobe.io/libraries/LBfad6882fb3434fe0ab5ed45353fc9d19/resources',\n",
       "     'self': 'https://reactor.adobe.io/libraries/LBfad6882fb3434fe0ab5ed45353fc9d19/relationships/resources'}},\n",
       "   'data_elements': {'links': {'related': 'https://reactor.adobe.io/libraries/LBfad6882fb3434fe0ab5ed45353fc9d19/data_elements',\n",
       "     'self': 'https://reactor.adobe.io/libraries/LBfad6882fb3434fe0ab5ed45353fc9d19/relationships/data_elements'}},\n",
       "   'extensions': {'links': {'related': 'https://reactor.adobe.io/libraries/LBfad6882fb3434fe0ab5ed45353fc9d19/extensions',\n",
       "     'self': 'https://reactor.adobe.io/libraries/LBfad6882fb3434fe0ab5ed45353fc9d19/relationships/extensions'}},\n",
       "   'rules': {'links': {'related': 'https://reactor.adobe.io/libraries/LBfad6882fb3434fe0ab5ed45353fc9d19/rules',\n",
       "     'self': 'https://reactor.adobe.io/libraries/LBfad6882fb3434fe0ab5ed45353fc9d19/relationships/rules'}},\n",
       "   'upstream_library': {'data': None},\n",
       "   'property': {'links': {'related': 'https://reactor.adobe.io/libraries/LBfad6882fb3434fe0ab5ed45353fc9d19/property'},\n",
       "    'data': {'id': 'PR834725ffd6054abeb3565d3b059d0071',\n",
       "     'type': 'properties'}}},\n",
       "  'links': {'property': 'https://reactor.adobe.io/properties/PR834725ffd6054abeb3565d3b059d0071',\n",
       "   'self': 'https://reactor.adobe.io/libraries/LBfad6882fb3434fe0ab5ed45353fc9d19'},\n",
       "  'meta': {'build_status': None,\n",
       "   'build_required_detail': 'No build found since last state change'}}}"
      ]
     },
     "execution_count": 60,
     "metadata": {},
     "output_type": "execute_result"
    }
   ],
   "source": [
    "myLib.transition()"
   ]
  },
  {
   "cell_type": "markdown",
   "metadata": {},
   "source": [
    "### By default, transition() will try to go further and further "
   ]
  },
  {
   "cell_type": "code",
   "execution_count": 61,
   "metadata": {},
   "outputs": [
    {
     "name": "stdout",
     "output_type": "stream",
     "text": [
      "pending...\n"
     ]
    },
    {
     "data": {
      "text/plain": [
       "{'data': {'id': 'BL459cb97832254cd185c609f366840af6',\n",
       "  'type': 'builds',\n",
       "  'attributes': {'created_at': '2019-07-02T15:36:05.256Z',\n",
       "   'status': 'succeeded',\n",
       "   'updated_at': '2019-07-02T15:36:19.632Z'},\n",
       "  'relationships': {'data_elements': {'links': {'related': 'https://reactor.adobe.io/builds/BL459cb97832254cd185c609f366840af6/data_elements'}},\n",
       "   'extensions': {'links': {'related': 'https://reactor.adobe.io/builds/BL459cb97832254cd185c609f366840af6/extensions'}},\n",
       "   'rules': {'links': {'related': 'https://reactor.adobe.io/builds/BL459cb97832254cd185c609f366840af6/rules'}},\n",
       "   'environment': {'links': {'related': 'https://reactor.adobe.io/builds/BL459cb97832254cd185c609f366840af6/environment'},\n",
       "    'data': {'id': 'ENe57eb491a57549e399ece5c5fc59a1c6',\n",
       "     'type': 'environments'}},\n",
       "   'library': {'links': {'related': 'https://reactor.adobe.io/builds/BL459cb97832254cd185c609f366840af6/library'},\n",
       "    'data': {'id': 'LBfad6882fb3434fe0ab5ed45353fc9d19', 'type': 'libraries'}},\n",
       "   'property': {'links': {'related': 'https://reactor.adobe.io/builds/BL459cb97832254cd185c609f366840af6/property'},\n",
       "    'data': {'id': 'PR834725ffd6054abeb3565d3b059d0071',\n",
       "     'type': 'properties'}}},\n",
       "  'links': {'environment': 'https://reactor.adobe.io/environments/ENe57eb491a57549e399ece5c5fc59a1c6',\n",
       "   'library': 'https://reactor.adobe.io/libraries/LBfad6882fb3434fe0ab5ed45353fc9d19',\n",
       "   'self': 'https://reactor.adobe.io/builds/BL459cb97832254cd185c609f366840af6'},\n",
       "  'meta': {'artifact_url': 'https://assets.adobedtm.com/launch-ENe57eb491a57549e399ece5c5fc59a1c6-staging.min.js'}}}"
      ]
     },
     "execution_count": 61,
     "metadata": {},
     "output_type": "execute_result"
    }
   ],
   "source": [
    "myLib.build()"
   ]
  },
  {
   "cell_type": "code",
   "execution_count": 62,
   "metadata": {},
   "outputs": [
    {
     "data": {
      "text/plain": [
       "{'data': {'id': 'LBfad6882fb3434fe0ab5ed45353fc9d19',\n",
       "  'type': 'libraries',\n",
       "  'attributes': {'created_at': '2019-07-02T15:28:22.581Z',\n",
       "   'name': '2019-07-02 - my Lib 1',\n",
       "   'published_at': None,\n",
       "   'state': 'approved',\n",
       "   'updated_at': '2019-07-02T15:36:37.021Z',\n",
       "   'build_required': False},\n",
       "  'relationships': {'builds': {'links': {'related': 'https://reactor.adobe.io/libraries/LBfad6882fb3434fe0ab5ed45353fc9d19/builds'}},\n",
       "   'environment': {'links': {'self': 'https://reactor.adobe.io/libraries/LBfad6882fb3434fe0ab5ed45353fc9d19/relationships/environment'},\n",
       "    'data': None},\n",
       "   'resources': {'links': {'related': 'https://reactor.adobe.io/libraries/LBfad6882fb3434fe0ab5ed45353fc9d19/resources',\n",
       "     'self': 'https://reactor.adobe.io/libraries/LBfad6882fb3434fe0ab5ed45353fc9d19/relationships/resources'}},\n",
       "   'data_elements': {'links': {'related': 'https://reactor.adobe.io/libraries/LBfad6882fb3434fe0ab5ed45353fc9d19/data_elements',\n",
       "     'self': 'https://reactor.adobe.io/libraries/LBfad6882fb3434fe0ab5ed45353fc9d19/relationships/data_elements'}},\n",
       "   'extensions': {'links': {'related': 'https://reactor.adobe.io/libraries/LBfad6882fb3434fe0ab5ed45353fc9d19/extensions',\n",
       "     'self': 'https://reactor.adobe.io/libraries/LBfad6882fb3434fe0ab5ed45353fc9d19/relationships/extensions'}},\n",
       "   'rules': {'links': {'related': 'https://reactor.adobe.io/libraries/LBfad6882fb3434fe0ab5ed45353fc9d19/rules',\n",
       "     'self': 'https://reactor.adobe.io/libraries/LBfad6882fb3434fe0ab5ed45353fc9d19/relationships/rules'}},\n",
       "   'upstream_library': {'data': None},\n",
       "   'property': {'links': {'related': 'https://reactor.adobe.io/libraries/LBfad6882fb3434fe0ab5ed45353fc9d19/property'},\n",
       "    'data': {'id': 'PR834725ffd6054abeb3565d3b059d0071',\n",
       "     'type': 'properties'}}},\n",
       "  'links': {'property': 'https://reactor.adobe.io/properties/PR834725ffd6054abeb3565d3b059d0071',\n",
       "   'self': 'https://reactor.adobe.io/libraries/LBfad6882fb3434fe0ab5ed45353fc9d19'},\n",
       "  'meta': {'build_status': None}}}"
      ]
     },
     "execution_count": 62,
     "metadata": {},
     "output_type": "execute_result"
    }
   ],
   "source": [
    "myLib.transition()"
   ]
  },
  {
   "cell_type": "code",
   "execution_count": 64,
   "metadata": {},
   "outputs": [
    {
     "name": "stdout",
     "output_type": "stream",
     "text": [
      "pending...\n"
     ]
    },
    {
     "data": {
      "text/plain": [
       "{'data': {'id': 'BLaf273e3064e4443ab7632bf0c8ae4bb7',\n",
       "  'type': 'builds',\n",
       "  'attributes': {'created_at': '2019-07-02T15:37:06.925Z',\n",
       "   'status': 'succeeded',\n",
       "   'updated_at': '2019-07-02T15:37:19.262Z'},\n",
       "  'relationships': {'data_elements': {'links': {'related': 'https://reactor.adobe.io/builds/BLaf273e3064e4443ab7632bf0c8ae4bb7/data_elements'}},\n",
       "   'extensions': {'links': {'related': 'https://reactor.adobe.io/builds/BLaf273e3064e4443ab7632bf0c8ae4bb7/extensions'}},\n",
       "   'rules': {'links': {'related': 'https://reactor.adobe.io/builds/BLaf273e3064e4443ab7632bf0c8ae4bb7/rules'}},\n",
       "   'environment': {'links': {'related': 'https://reactor.adobe.io/builds/BLaf273e3064e4443ab7632bf0c8ae4bb7/environment'},\n",
       "    'data': {'id': 'ENa284242e02c34774af2ec99df05efa64',\n",
       "     'type': 'environments'}},\n",
       "   'library': {'links': {'related': 'https://reactor.adobe.io/builds/BLaf273e3064e4443ab7632bf0c8ae4bb7/library'},\n",
       "    'data': {'id': 'LBfad6882fb3434fe0ab5ed45353fc9d19', 'type': 'libraries'}},\n",
       "   'property': {'links': {'related': 'https://reactor.adobe.io/builds/BLaf273e3064e4443ab7632bf0c8ae4bb7/property'},\n",
       "    'data': {'id': 'PR834725ffd6054abeb3565d3b059d0071',\n",
       "     'type': 'properties'}}},\n",
       "  'links': {'environment': 'https://reactor.adobe.io/environments/ENa284242e02c34774af2ec99df05efa64',\n",
       "   'library': 'https://reactor.adobe.io/libraries/LBfad6882fb3434fe0ab5ed45353fc9d19',\n",
       "   'self': 'https://reactor.adobe.io/builds/BLaf273e3064e4443ab7632bf0c8ae4bb7'},\n",
       "  'meta': {'artifact_url': 'https://assets.adobedtm.com/launch-ENa284242e02c34774af2ec99df05efa64.min.js'}}}"
      ]
     },
     "execution_count": 64,
     "metadata": {},
     "output_type": "execute_result"
    }
   ],
   "source": [
    "myLib.build()"
   ]
  },
  {
   "cell_type": "code",
   "execution_count": 65,
   "metadata": {},
   "outputs": [
    {
     "data": {
      "text/plain": [
       "'var path = window.location.pathname;\\nif(path.indexOf(\\'web_analytics\\') != -1){return \"Web Analytics\"}\\nelse if (path.indexOf(\\'python\\') != -1){return \"Python\"}\\nelse if(path.indexOf(\\'about\\') !=  -1){return \"About\"}\\nelse if(path == \\'/\\'){return \"Homepage\"}\\nelse {return \"Other\"}'"
      ]
     },
     "execution_count": 65,
     "metadata": {},
     "output_type": "execute_result"
    }
   ],
   "source": [
    "pylaunch.extractSettings(pytest_de[0],save=True)"
   ]
  },
  {
   "cell_type": "code",
   "execution_count": 66,
   "metadata": {},
   "outputs": [
    {
     "data": {
      "text/html": [
       "<div>\n",
       "<style scoped>\n",
       "    .dataframe tbody tr th:only-of-type {\n",
       "        vertical-align: middle;\n",
       "    }\n",
       "\n",
       "    .dataframe tbody tr th {\n",
       "        vertical-align: top;\n",
       "    }\n",
       "\n",
       "    .dataframe thead th {\n",
       "        text-align: right;\n",
       "    }\n",
       "</style>\n",
       "<table border=\"1\" class=\"dataframe\">\n",
       "  <thead>\n",
       "    <tr style=\"text-align: right;\">\n",
       "      <th></th>\n",
       "      <th>created_at</th>\n",
       "      <th>default_value</th>\n",
       "      <th>delegate_descriptor_id</th>\n",
       "      <th>dirty</th>\n",
       "      <th>enabled</th>\n",
       "      <th>force_lower_case</th>\n",
       "      <th>id</th>\n",
       "      <th>name</th>\n",
       "      <th>published</th>\n",
       "      <th>revision_number</th>\n",
       "      <th>settings</th>\n",
       "      <th>storage_duration</th>\n",
       "      <th>updated_at</th>\n",
       "    </tr>\n",
       "  </thead>\n",
       "  <tbody>\n",
       "    <tr>\n",
       "      <th>category</th>\n",
       "      <td>2019-07-02T15:21:37.175Z</td>\n",
       "      <td></td>\n",
       "      <td>core::dataElements::custom-code</td>\n",
       "      <td>True</td>\n",
       "      <td>True</td>\n",
       "      <td>False</td>\n",
       "      <td>DE5fa87689e748483eab956fe2e725a1d6</td>\n",
       "      <td>category</td>\n",
       "      <td>False</td>\n",
       "      <td>0</td>\n",
       "      <td>{\"source\":\"var path = window.location.pathname...</td>\n",
       "      <td>None</td>\n",
       "      <td>2019-07-02T15:21:37.175Z</td>\n",
       "    </tr>\n",
       "  </tbody>\n",
       "</table>\n",
       "</div>"
      ],
      "text/plain": [
       "                        created_at default_value  \\\n",
       "category  2019-07-02T15:21:37.175Z                 \n",
       "\n",
       "                   delegate_descriptor_id dirty enabled force_lower_case  \\\n",
       "category  core::dataElements::custom-code  True    True            False   \n",
       "\n",
       "                                          id      name published  \\\n",
       "category  DE5fa87689e748483eab956fe2e725a1d6  category     False   \n",
       "\n",
       "         revision_number                                           settings  \\\n",
       "category               0  {\"source\":\"var path = window.location.pathname...   \n",
       "\n",
       "         storage_duration                updated_at  \n",
       "category             None  2019-07-02T15:21:37.175Z  "
      ]
     },
     "execution_count": 66,
     "metadata": {},
     "output_type": "execute_result"
    }
   ],
   "source": [
    "df_de.head(1)"
   ]
  },
  {
   "cell_type": "code",
   "execution_count": null,
   "metadata": {},
   "outputs": [],
   "source": []
  }
 ],
 "metadata": {
  "kernelspec": {
   "display_name": "Python 3",
   "language": "python",
   "name": "python3"
  },
  "language_info": {
   "codemirror_mode": {
    "name": "ipython",
    "version": 3
   },
   "file_extension": ".py",
   "mimetype": "text/x-python",
   "name": "python",
   "nbconvert_exporter": "python",
   "pygments_lexer": "ipython3",
   "version": "3.7.0"
  }
 },
 "nbformat": 4,
 "nbformat_minor": 2
}
